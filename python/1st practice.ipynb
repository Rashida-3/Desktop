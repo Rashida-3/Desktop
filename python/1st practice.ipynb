{
 "cells": [
  {
   "cell_type": "code",
   "execution_count": 1,
   "id": "8d312136",
   "metadata": {},
   "outputs": [
    {
     "name": "stdout",
     "output_type": "stream",
     "text": [
      "rahul\n"
     ]
    }
   ],
   "source": [
    "print(\"rahul\")"
   ]
  },
  {
   "cell_type": "code",
   "execution_count": 2,
   "id": "285ecced",
   "metadata": {},
   "outputs": [
    {
     "name": "stdout",
     "output_type": "stream",
     "text": [
      "rahul\n"
     ]
    }
   ],
   "source": [
    "print(\"rahul\")"
   ]
  },
  {
   "cell_type": "code",
   "execution_count": 3,
   "id": "c16b5de5",
   "metadata": {},
   "outputs": [
    {
     "name": "stdout",
     "output_type": "stream",
     "text": [
      "orange\n",
      "banana\n",
      "apple\n"
     ]
    }
   ],
   "source": [
    "x,y,z = \"orange\", \"banana\",\"apple\"\n",
    "print(x)\n",
    "print(y)\n",
    "print(z)\n",
    "\n"
   ]
  },
  {
   "cell_type": "code",
   "execution_count": 4,
   "id": "bd0e0a51",
   "metadata": {},
   "outputs": [
    {
     "name": "stdout",
     "output_type": "stream",
     "text": [
      "5\n",
      "rahul\n"
     ]
    }
   ],
   "source": [
    "a = 5\n",
    "b = \"rahul\"\n",
    "print(a)\n",
    "print(b)"
   ]
  },
  {
   "cell_type": "code",
   "execution_count": 5,
   "id": "f01dd7f8",
   "metadata": {},
   "outputs": [
    {
     "name": "stdout",
     "output_type": "stream",
     "text": [
      "<class 'int'>\n",
      "<class 'int'>\n",
      "<class 'str'>\n",
      "<class 'str'>\n"
     ]
    }
   ],
   "source": [
    "a = 7\n",
    "b = 99\n",
    "c = \"tata\"\n",
    "d = 'indian bank'\n",
    "print(type(a))\n",
    "print(type(b))\n",
    "print(type(c))\n",
    "print(type(d))"
   ]
  },
  {
   "cell_type": "code",
   "execution_count": 6,
   "id": "7f08294f",
   "metadata": {},
   "outputs": [
    {
     "name": "stdout",
     "output_type": "stream",
     "text": [
      "<class 'int'>\n",
      "<class 'str'>\n"
     ]
    }
   ],
   "source": [
    "f = 56\n",
    "h = 'rashida'\n",
    "print(type(f))\n",
    "print(type(h))"
   ]
  },
  {
   "cell_type": "code",
   "execution_count": 7,
   "id": "09b1f4eb",
   "metadata": {},
   "outputs": [
    {
     "name": "stdout",
     "output_type": "stream",
     "text": [
      "9\n"
     ]
    }
   ],
   "source": [
    "\n",
    "x,y,z = 2, 3, 4\n",
    "print(x+y+z)"
   ]
  },
  {
   "cell_type": "code",
   "execution_count": 8,
   "id": "b7141ed4",
   "metadata": {},
   "outputs": [
    {
     "name": "stdout",
     "output_type": "stream",
     "text": [
      "2296\n"
     ]
    }
   ],
   "source": [
    "a,b = 41,56\n",
    "print(a*b)"
   ]
  },
  {
   "cell_type": "code",
   "execution_count": 9,
   "id": "232bea12",
   "metadata": {},
   "outputs": [
    {
     "name": "stdout",
     "output_type": "stream",
     "text": [
      "rahul rajender kumar\n"
     ]
    }
   ],
   "source": [
    "a = 'rahul'\n",
    "b = 'rajender'\n",
    "c = 'kumar'\n",
    "print(a,b,c)"
   ]
  },
  {
   "cell_type": "code",
   "execution_count": 10,
   "id": "82b3fe6f",
   "metadata": {},
   "outputs": [
    {
     "name": "stdout",
     "output_type": "stream",
     "text": [
      "python is a high level programming language\n"
     ]
    }
   ],
   "source": [
    "a = 'python is a high level programming language'\n",
    "print(a)"
   ]
  },
  {
   "cell_type": "code",
   "execution_count": 11,
   "id": "583b3f21",
   "metadata": {},
   "outputs": [
    {
     "name": "stdout",
     "output_type": "stream",
     "text": [
      "14\n"
     ]
    }
   ],
   "source": [
    "x = 7\n",
    "y = 7\n",
    "print(x + y)"
   ]
  },
  {
   "cell_type": "code",
   "execution_count": 12,
   "id": "ac8e4bf9",
   "metadata": {},
   "outputs": [
    {
     "name": "stdout",
     "output_type": "stream",
     "text": [
      "2.0\n"
     ]
    }
   ],
   "source": [
    "x = 14\n",
    "y = 7\n",
    "print(x / y)"
   ]
  },
  {
   "cell_type": "code",
   "execution_count": 1,
   "id": "eeccb860",
   "metadata": {},
   "outputs": [
    {
     "data": {
      "text/plain": [
       "[2, 4, 6]"
      ]
     },
     "execution_count": 1,
     "metadata": {},
     "output_type": "execute_result"
    }
   ],
   "source": [
    "def even_check(num):\n",
    "  if num%2==0:\n",
    "    return True\n",
    "\n",
    "lst=[2,3,4,5,6,7]\n",
    "list(filter(even_check,lst))"
   ]
  },
  {
   "cell_type": "code",
   "execution_count": 9,
   "id": "ac5a74b7",
   "metadata": {},
   "outputs": [
    {
     "name": "stdout",
     "output_type": "stream",
     "text": [
      "[5, 7, 9, 11]\n"
     ]
    }
   ],
   "source": [
    "\n",
    "a=[[1,2],[3,4]]\n",
    "b=[[4,5],[6,7]]\n",
    "c=[]\n",
    "\n",
    "for i in range(2):\n",
    "    for j in range(2):\n",
    "        c.append(a[i][j]+b[i][j])\n",
    "print(c)"
   ]
  },
  {
   "cell_type": "code",
   "execution_count": 2,
   "id": "0fb108e1",
   "metadata": {},
   "outputs": [
    {
     "name": "stdout",
     "output_type": "stream",
     "text": [
      "<class 'int'>\n"
     ]
    }
   ],
   "source": [
    "x=8\n",
    "print(type(x))"
   ]
  },
  {
   "cell_type": "code",
   "execution_count": 7,
   "id": "70bec44a",
   "metadata": {},
   "outputs": [
    {
     "name": "stdout",
     "output_type": "stream",
     "text": [
      "mumbai coding club\n"
     ]
    }
   ],
   "source": [
    "class Company:\n",
    "  def __init__(self):\n",
    "    self.name='mumbai coding club'\n",
    "    self.address='sakinaka'\n",
    "\n",
    "  def show(self):\n",
    "    print('name:',self.name,'address:',self.address) \n",
    "\n",
    "em=Company()     \n",
    "print(em.name)\n",
    "# em.show()\n"
   ]
  },
  {
   "cell_type": "code",
   "execution_count": 8,
   "id": "6da31304",
   "metadata": {},
   "outputs": [
    {
     "name": "stdout",
     "output_type": "stream",
     "text": [
      "mumbai coding club sakinaka\n"
     ]
    }
   ],
   "source": [
    "class Company:\n",
    "  def __init__(self):\n",
    "    self.name='mumbai coding club'\n",
    "    self.address='sakinaka'\n",
    "\n",
    "  def show(self):\n",
    "    print(self.name,self.address)\n",
    "em=Company()     \n",
    "em.show()"
   ]
  },
  {
   "cell_type": "code",
   "execution_count": null,
   "id": "e04fc400",
   "metadata": {},
   "outputs": [],
   "source": []
  }
 ],
 "metadata": {
  "kernelspec": {
   "display_name": "Python 3 (ipykernel)",
   "language": "python",
   "name": "python3"
  },
  "language_info": {
   "codemirror_mode": {
    "name": "ipython",
    "version": 3
   },
   "file_extension": ".py",
   "mimetype": "text/x-python",
   "name": "python",
   "nbconvert_exporter": "python",
   "pygments_lexer": "ipython3",
   "version": "3.10.4"
  }
 },
 "nbformat": 4,
 "nbformat_minor": 5
}

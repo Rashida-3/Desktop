{
 "cells": [
  {
   "cell_type": "code",
   "execution_count": 8,
   "id": "60c940d0",
   "metadata": {},
   "outputs": [
    {
     "name": "stdout",
     "output_type": "stream",
     "text": [
      "****\n",
      "****\n",
      "****\n",
      "****\n"
     ]
    }
   ],
   "source": [
    "for i in range (4):\n",
    "    for j in range(4):\n",
    "        \n",
    "        print(\"*\",end=\"\")\n",
    "    print()\n",
    "        "
   ]
  },
  {
   "cell_type": "code",
   "execution_count": 32,
   "id": "c2d7bab4",
   "metadata": {},
   "outputs": [
    {
     "name": "stdout",
     "output_type": "stream",
     "text": [
      "1 2 3 4 \n",
      "1 2 3 4 \n",
      "1 2 3 4 \n",
      "1 2 3 4 \n"
     ]
    }
   ],
   "source": [
    "for i in range (1,5):\n",
    "    for j in range(1,5):\n",
    "        print(j,end=\" \")\n",
    "    print(\"\")\n"
   ]
  },
  {
   "cell_type": "code",
   "execution_count": 34,
   "id": "d0f589d9",
   "metadata": {},
   "outputs": [
    {
     "name": "stdout",
     "output_type": "stream",
     "text": [
      "4 3 2 1 \n",
      "4 3 2 1 \n",
      "4 3 2 1 \n",
      "4 3 2 1 \n"
     ]
    }
   ],
   "source": [
    "n=5\n",
    "for i in range (1,n):\n",
    "    for j in range(1,n):\n",
    "        print(n-j,end=\" \")\n",
    "    print(\"\")"
   ]
  },
  {
   "cell_type": "code",
   "execution_count": 53,
   "id": "0fcf4803",
   "metadata": {},
   "outputs": [
    {
     "name": "stdout",
     "output_type": "stream",
     "text": [
      "* \n",
      "* * \n",
      "* * * \n",
      "* * * * \n",
      "* * * * * \n"
     ]
    }
   ],
   "source": [
    "n=6\n",
    "for i in range (1,n):\n",
    "    for j in range(1,i+1):\n",
    "        print(\"*\",end=\" \")\n",
    "    print(\"\")"
   ]
  },
  {
   "cell_type": "code",
   "execution_count": 39,
   "id": "3561b65f",
   "metadata": {},
   "outputs": [
    {
     "name": "stdout",
     "output_type": "stream",
     "text": [
      "odd number: 1\n",
      "even number: 2\n",
      "odd number: 3\n",
      "even number: 4\n",
      "odd number: 5\n",
      "even number: 6\n",
      "odd number: 7\n",
      "even number: 8\n",
      "odd number: 9\n"
     ]
    }
   ],
   "source": [
    "for i in range (1,10):\n",
    "    if i%2 == 0:\n",
    "        print('even number:',i)\n",
    "    else:\n",
    "        print('odd number:',i)\n",
    "        "
   ]
  },
  {
   "cell_type": "code",
   "execution_count": 67,
   "id": "c05219a7",
   "metadata": {},
   "outputs": [
    {
     "name": "stdout",
     "output_type": "stream",
     "text": [
      "1 2 3 4 5 \n",
      "1 2 3 4 5 \n",
      "1 2 3 4 5 \n",
      "1 2 3 4 5 \n",
      "1 2 3 4 5 \n"
     ]
    }
   ],
   "source": [
    "for i in range(1,6):\n",
    "    for j in range(1,6):\n",
    "        print(j, end=\" \")\n",
    "    print(\"\")\n",
    "    "
   ]
  },
  {
   "cell_type": "code",
   "execution_count": 69,
   "id": "32cc61a6",
   "metadata": {},
   "outputs": [
    {
     "name": "stdout",
     "output_type": "stream",
     "text": [
      "rashida\n",
      "rashida\n",
      "rashida\n",
      "rashida\n",
      "rashida\n"
     ]
    }
   ],
   "source": [
    "for i in range(5):\n",
    "    print(\"rashida\")"
   ]
  },
  {
   "cell_type": "code",
   "execution_count": 71,
   "id": "d7721bb4",
   "metadata": {},
   "outputs": [
    {
     "name": "stdout",
     "output_type": "stream",
     "text": [
      "1357\n",
      "1357\n",
      "1357\n",
      "1357\n"
     ]
    }
   ],
   "source": [
    "for i in range(1,8,2):\n",
    "    for j in range(1,8,2):\n",
    "        print(j, end=\"\")\n",
    "    print()   "
   ]
  },
  {
   "cell_type": "code",
   "execution_count": 82,
   "id": "136d8d2b",
   "metadata": {},
   "outputs": [
    {
     "name": "stdout",
     "output_type": "stream",
     "text": [
      "123456789\n",
      "123456789\n",
      "123456789\n",
      "123456789\n",
      "123456789\n",
      "123456789\n",
      "123456789\n",
      "123456789\n",
      "123456789\n"
     ]
    }
   ],
   "source": [
    "n=10\n",
    "for i in range(1,n):\n",
    "    for j in range(1,n):\n",
    "        print(j,end=\"\")\n",
    "    print()"
   ]
  },
  {
   "cell_type": "code",
   "execution_count": 85,
   "id": "602f54c8",
   "metadata": {},
   "outputs": [
    {
     "name": "stdout",
     "output_type": "stream",
     "text": [
      "1 2 3 4 5 \n",
      "1 2 3 4 5 \n",
      "1 2 3 4 5 \n",
      "1 2 3 4 5 \n",
      "1 2 3 4 5 \n"
     ]
    }
   ],
   "source": [
    "for i in range(1,6):\n",
    "    for j in range(1,6):\n",
    "        print(j,end=\" \")\n",
    "    print() \n",
    "    "
   ]
  },
  {
   "cell_type": "code",
   "execution_count": 90,
   "id": "e72ae0f1",
   "metadata": {},
   "outputs": [
    {
     "name": "stdout",
     "output_type": "stream",
     "text": [
      "5 4 3 2 1 \n",
      "5 4 3 2 1 \n",
      "5 4 3 2 1 \n",
      "5 4 3 2 1 \n",
      "5 4 3 2 1 \n"
     ]
    }
   ],
   "source": [
    "n=6\n",
    "for i in range(1,n):\n",
    "    for j in range(1,n):\n",
    "        print(n-j,end=\" \")\n",
    "    print()\n",
    "\n",
    "\n",
    "\n"
   ]
  },
  {
   "cell_type": "code",
   "execution_count": 94,
   "id": "027d79ee",
   "metadata": {},
   "outputs": [
    {
     "name": "stdout",
     "output_type": "stream",
     "text": [
      "12 11 10 9 8 7 6 5 4 3 2 1 \n",
      "12 11 10 9 8 7 6 5 4 3 2 1 \n",
      "12 11 10 9 8 7 6 5 4 3 2 1 \n",
      "12 11 10 9 8 7 6 5 4 3 2 1 \n",
      "12 11 10 9 8 7 6 5 4 3 2 1 \n",
      "12 11 10 9 8 7 6 5 4 3 2 1 \n",
      "12 11 10 9 8 7 6 5 4 3 2 1 \n",
      "12 11 10 9 8 7 6 5 4 3 2 1 \n",
      "12 11 10 9 8 7 6 5 4 3 2 1 \n",
      "12 11 10 9 8 7 6 5 4 3 2 1 \n",
      "12 11 10 9 8 7 6 5 4 3 2 1 \n",
      "12 11 10 9 8 7 6 5 4 3 2 1 \n"
     ]
    }
   ],
   "source": [
    "x=13\n",
    "for i in range(1,x):\n",
    "    for j in range(1,x):\n",
    "        print(x-j,end=\" \")\n",
    "    print() "
   ]
  },
  {
   "cell_type": "code",
   "execution_count": 105,
   "id": "baf283e3",
   "metadata": {},
   "outputs": [
    {
     "name": "stdout",
     "output_type": "stream",
     "text": [
      "*\n",
      "**\n",
      "***\n",
      "****\n",
      "*****\n",
      "******\n",
      "*******\n",
      "********\n",
      "*********\n",
      "**********\n",
      "***********\n"
     ]
    }
   ],
   "source": [
    "n=11\n",
    "for i in range(n):\n",
    "    for j in range(i+1):\n",
    "        print(\"*\",end=\"\")\n",
    "    print()  "
   ]
  },
  {
   "cell_type": "code",
   "execution_count": null,
   "id": "29649375",
   "metadata": {},
   "outputs": [],
   "source": []
  },
  {
   "cell_type": "code",
   "execution_count": null,
   "id": "12f69c3d",
   "metadata": {},
   "outputs": [],
   "source": []
  }
 ],
 "metadata": {
  "kernelspec": {
   "display_name": "Python 3 (ipykernel)",
   "language": "python",
   "name": "python3"
  },
  "language_info": {
   "codemirror_mode": {
    "name": "ipython",
    "version": 3
   },
   "file_extension": ".py",
   "mimetype": "text/x-python",
   "name": "python",
   "nbconvert_exporter": "python",
   "pygments_lexer": "ipython3",
   "version": "3.10.4"
  }
 },
 "nbformat": 4,
 "nbformat_minor": 5
}

{
 "cells": [
  {
   "cell_type": "code",
   "execution_count": 5,
   "id": "9d59ce32",
   "metadata": {},
   "outputs": [
    {
     "name": "stdout",
     "output_type": "stream",
     "text": [
      "36\n"
     ]
    }
   ],
   "source": [
    "\n",
    "# if statement\n",
    "\n",
    "number=6\n",
    "if number > 5:\n",
    "    #calculate square\n",
    "    print(number * number)\n",
    "\n"
   ]
  },
  {
   "cell_type": "code",
   "execution_count": 6,
   "id": "41ca3c47",
   "metadata": {},
   "outputs": [
    {
     "name": "stdout",
     "output_type": "stream",
     "text": [
      "1156\n"
     ]
    }
   ],
   "source": [
    "number = 34\n",
    "if number > 12:\n",
    "    print(number*number)"
   ]
  },
  {
   "cell_type": "code",
   "execution_count": 7,
   "id": "46ef49a4",
   "metadata": {},
   "outputs": [
    {
     "name": "stdout",
     "output_type": "stream",
     "text": [
      "144\n"
     ]
    }
   ],
   "source": [
    "no= 12\n",
    "if no > 2:\n",
    "    print(no*no)"
   ]
  },
  {
   "cell_type": "code",
   "execution_count": 10,
   "id": "ae6aa4b7",
   "metadata": {},
   "outputs": [
    {
     "name": "stdout",
     "output_type": "stream",
     "text": [
      "1.0\n"
     ]
    }
   ],
   "source": [
    "nu=55\n",
    "if nu > 30:\n",
    "    print(nu/nu)"
   ]
  },
  {
   "cell_type": "code",
   "execution_count": 20,
   "id": "fa5e70d5",
   "metadata": {},
   "outputs": [
    {
     "name": "stdout",
     "output_type": "stream",
     "text": [
      "16\n"
     ]
    }
   ],
   "source": [
    "no = 4\n",
    "if no > 2:\n",
    "  print(no * no)"
   ]
  },
  {
   "cell_type": "code",
   "execution_count": 31,
   "id": "7a238a44",
   "metadata": {},
   "outputs": [
    {
     "name": "stdout",
     "output_type": "stream",
     "text": [
      "enter password :HAGTS\n",
      "incorrect password\n"
     ]
    }
   ],
   "source": [
    "# if else statement;\n",
    "\n",
    "password = input('enter password :')\n",
    "\n",
    "if password == (\"MCC100\"):\n",
    "     print(\"correct password\")\n",
    "else:\n",
    "        print(\"incorrect password\")"
   ]
  },
  {
   "cell_type": "code",
   "execution_count": 34,
   "id": "62edfa24",
   "metadata": {},
   "outputs": [
    {
     "name": "stdout",
     "output_type": "stream",
     "text": [
      "enter your name :rashida\n",
      "right name\n"
     ]
    }
   ],
   "source": [
    "name = input('enter your name :')\n",
    "if name == (\"rashida\"):\n",
    "    print('right name')\n",
    "else:\n",
    "        print('not right name')"
   ]
  },
  {
   "cell_type": "code",
   "execution_count": 36,
   "id": "b8faa400",
   "metadata": {},
   "outputs": [
    {
     "name": "stdout",
     "output_type": "stream",
     "text": [
      "write your age:20\n",
      "right\n"
     ]
    }
   ],
   "source": [
    "age = input('write your age:')\n",
    "if age == (\"20\"):\n",
    "    print('right')\n",
    "else:\n",
    "        print('wrong')"
   ]
  },
  {
   "cell_type": "code",
   "execution_count": 43,
   "id": "c123cd93",
   "metadata": {},
   "outputs": [
    {
     "name": "stdout",
     "output_type": "stream",
     "text": [
      "even odd number:78\n",
      "even\n"
     ]
    }
   ],
   "source": [
    "number =int( input ('even odd number:'))\n",
    "if (number%2==0):\n",
    "    print('even')\n",
    "else:\n",
    "    print('odd')"
   ]
  },
  {
   "cell_type": "code",
   "execution_count": 52,
   "id": "9101ad7a",
   "metadata": {},
   "outputs": [
    {
     "name": "stdout",
     "output_type": "stream",
     "text": [
      "this number is 56\n",
      "even\n"
     ]
    }
   ],
   "source": [
    "number = int (input ('this number is '))\n",
    "if (number%2==0):\n",
    "    print('even')\n",
    "else:\n",
    "        print('odd')\n",
    "        "
   ]
  },
  {
   "cell_type": "code",
   "execution_count": 62,
   "id": "5c765016",
   "metadata": {},
   "outputs": [
    {
     "name": "stdout",
     "output_type": "stream",
     "text": [
      "positive number\n"
     ]
    }
   ],
   "source": [
    "x = 10 \n",
    "if x > 3 :\n",
    "    print('positive number')\n",
    "else:\n",
    "        print('negative number')\n"
   ]
  },
  {
   "cell_type": "code",
   "execution_count": 63,
   "id": "511623c9",
   "metadata": {},
   "outputs": [
    {
     "name": "stdout",
     "output_type": "stream",
     "text": [
      "write your date of birth:566\n",
      "its wrong\n"
     ]
    }
   ],
   "source": [
    "birth = input ('write your date of birth:')\n",
    "if birth ==('123'):\n",
    "    print('its right')\n",
    "else:\n",
    "    print('its wrong')\n",
    "        "
   ]
  },
  {
   "cell_type": "code",
   "execution_count": 69,
   "id": "ad6c2da0",
   "metadata": {},
   "outputs": [
    {
     "name": "stdout",
     "output_type": "stream",
     "text": [
      "write the name here :anam\n",
      "right name\n"
     ]
    }
   ],
   "source": [
    "name = input ('write the name here :')\n",
    "if name==('anam'):\n",
    "    print('right name')\n",
    "else:\n",
    "    print('wrong name')"
   ]
  },
  {
   "cell_type": "code",
   "execution_count": 5,
   "id": "610abe01",
   "metadata": {},
   "outputs": [
    {
     "name": "stdout",
     "output_type": "stream",
     "text": [
      "choose your number:2\n",
      "editor\n"
     ]
    }
   ],
   "source": [
    "# multiple if statement\n",
    "\n",
    "choice = int(input('choose your number:'))\n",
    "if choice == 1:\n",
    "    print ('admin')\n",
    "elif choice==2:\n",
    "    print('editor')\n",
    "elif choice==3:\n",
    "    print('guest')\n",
    "else:\n",
    "    print('wrong statement')\n",
    "    "
   ]
  },
  {
   "cell_type": "code",
   "execution_count": 8,
   "id": "3a76d68f",
   "metadata": {},
   "outputs": [
    {
     "name": "stdout",
     "output_type": "stream",
     "text": [
      "choose your lucky number:1\n",
      "rashida\n"
     ]
    }
   ],
   "source": [
    "choose = int (input ('choose your lucky number:'))\n",
    "if choose==1:\n",
    "    print('rashida')\n",
    "elif choose==2:\n",
    "    print('fatima')\n",
    "elif choose==3:\n",
    "    print('sadiya')\n",
    "elif choose==4:\n",
    "    print('zobia')\n",
    "        \n",
    "    "
   ]
  },
  {
   "cell_type": "code",
   "execution_count": 28,
   "id": "4f19b328",
   "metadata": {},
   "outputs": [
    {
     "name": "stdout",
     "output_type": "stream",
     "text": [
      "enter first number:12\n",
      "enter second number:11\n",
      "12 is greater than 11\n"
     ]
    }
   ],
   "source": [
    "# nested if else statement\n",
    "\n",
    "num1= int(input('enter first number:'))\n",
    "num2= int(input('enter second number:'))\n",
    "\n",
    "if num1 > num2:\n",
    "    if num1 == num2:\n",
    "        print(num1, 'and', num2, 'are equal')\n",
    "    else:\n",
    "        print(num1, 'is greater than', num2)\n",
    "else:\n",
    "        print(num1,'is smaller than', num2)"
   ]
  },
  {
   "cell_type": "code",
   "execution_count": 17,
   "id": "f36ca7df",
   "metadata": {},
   "outputs": [
    {
     "name": "stdout",
     "output_type": "stream",
     "text": [
      "enter a number12\n",
      "0 even number\n",
      "1 odd number\n",
      "2 even number\n",
      "3 odd number\n",
      "4 even number\n",
      "5 odd number\n",
      "6 even number\n",
      "7 odd number\n",
      "8 even number\n",
      "9 odd number\n",
      "10 even number\n",
      "11 odd number\n"
     ]
    }
   ],
   "source": [
    "# even and odd numbers\n",
    "\n",
    "num=int(input(\"enter a number\"))\n",
    "for i in range(num):\n",
    "    if(i%2==0):\n",
    "        print(i,'even number')\n",
    "    else:\n",
    "        print(i,'odd number')"
   ]
  },
  {
   "cell_type": "code",
   "execution_count": 18,
   "id": "f000b744",
   "metadata": {},
   "outputs": [
    {
     "name": "stdout",
     "output_type": "stream",
     "text": [
      "enter number:11\n",
      "0 this is even number\n",
      "1 this is odd number\n",
      "2 this is even number\n",
      "3 this is odd number\n",
      "4 this is even number\n",
      "5 this is odd number\n",
      "6 this is even number\n",
      "7 this is odd number\n",
      "8 this is even number\n",
      "9 this is odd number\n",
      "10 this is even number\n"
     ]
    }
   ],
   "source": [
    "num=int(input(\"enter number:\"))\n",
    "for i in range(num):\n",
    "    if(i%2==0):\n",
    "        print(i,'this is even number')\n",
    "    else:\n",
    "        print(i,'this is odd number')\n",
    "            "
   ]
  },
  {
   "cell_type": "code",
   "execution_count": 31,
   "id": "88ce4394",
   "metadata": {},
   "outputs": [
    {
     "name": "stdout",
     "output_type": "stream",
     "text": [
      "negative\n"
     ]
    }
   ],
   "source": [
    "x=24\n",
    "if x>45:\n",
    "    print('positive')\n",
    "else:\n",
    "    print('negative')"
   ]
  },
  {
   "cell_type": "code",
   "execution_count": 35,
   "id": "134da4e6",
   "metadata": {},
   "outputs": [
    {
     "name": "stdout",
     "output_type": "stream",
     "text": [
      "positive\n"
     ]
    }
   ],
   "source": [
    "a = 55\n",
    "if a >27:\n",
    "    print('positive')\n",
    "else:\n",
    "    print('negative')\n"
   ]
  },
  {
   "cell_type": "code",
   "execution_count": 38,
   "id": "2517cf0b",
   "metadata": {},
   "outputs": [
    {
     "name": "stdout",
     "output_type": "stream",
     "text": [
      "2\n",
      "6\n",
      "12\n",
      "20\n",
      "30\n",
      "42\n",
      "56\n",
      "72\n",
      "90\n",
      "110\n"
     ]
    }
   ],
   "source": [
    "# for loop \n",
    "\n",
    "sum=0\n",
    "for i in range(2, 22, 2):\n",
    "    sum=sum+i\n",
    "    print(sum)"
   ]
  },
  {
   "cell_type": "code",
   "execution_count": 41,
   "id": "b315fcc8",
   "metadata": {},
   "outputs": [
    {
     "name": "stdout",
     "output_type": "stream",
     "text": [
      "2\n",
      "8\n",
      "48\n",
      "384\n",
      "3840\n"
     ]
    }
   ],
   "source": [
    "mult =1\n",
    "for i in range(2,12,2):\n",
    "    mult=mult*i\n",
    "    print(mult)\n"
   ]
  },
  {
   "cell_type": "code",
   "execution_count": 47,
   "id": "6114e9d5",
   "metadata": {},
   "outputs": [
    {
     "name": "stdout",
     "output_type": "stream",
     "text": [
      "M u m b a i C o d i n g C l u b "
     ]
    }
   ],
   "source": [
    "name = \"MumbaiCodingClub\"\n",
    "for i in name:\n",
    "    print(i, end=\" \")"
   ]
  },
  {
   "cell_type": "code",
   "execution_count": 51,
   "id": "c8c9e6c1",
   "metadata": {},
   "outputs": [
    {
     "name": "stdout",
     "output_type": "stream",
     "text": [
      "m u m b a i c o d i n g c l u b "
     ]
    }
   ],
   "source": [
    "name= \"mumbaicodingclub\"\n",
    "for i in name:\n",
    "    print(i,end=\" \")"
   ]
  },
  {
   "cell_type": "code",
   "execution_count": 54,
   "id": "4117a3aa",
   "metadata": {},
   "outputs": [
    {
     "name": "stdout",
     "output_type": "stream",
     "text": [
      "a d i h s a r "
     ]
    }
   ],
   "source": [
    "name=\"rashida\"\n",
    "for i in name[::-1]:\n",
    "    print(i, end=' ')"
   ]
  },
  {
   "cell_type": "code",
   "execution_count": 58,
   "id": "db50c967",
   "metadata": {},
   "outputs": [
    {
     "name": "stdout",
     "output_type": "stream",
     "text": [
      "s i a "
     ]
    }
   ],
   "source": [
    "name= \"rashida\"\n",
    "for char in name[2:7:2]:\n",
    "    print(char, end=' ')\n",
    "    "
   ]
  },
  {
   "cell_type": "code",
   "execution_count": 69,
   "id": "6cd1978f",
   "metadata": {},
   "outputs": [
    {
     "name": "stdout",
     "output_type": "stream",
     "text": [
      "Life\n",
      "is\n",
      "a\n",
      "long\n",
      "lesson\n",
      "i\n",
      "humility.\n"
     ]
    }
   ],
   "source": [
    "# splite sentence\n",
    "\n",
    "dialogue=\"Life is a long lesson i humility.\"\n",
    "for word in dialogue.split(\" \"):\n",
    "    print(word)\n",
    "    \n"
   ]
  },
  {
   "cell_type": "code",
   "execution_count": null,
   "id": "c9380571",
   "metadata": {},
   "outputs": [],
   "source": []
  }
 ],
 "metadata": {
  "kernelspec": {
   "display_name": "Python 3 (ipykernel)",
   "language": "python",
   "name": "python3"
  },
  "language_info": {
   "codemirror_mode": {
    "name": "ipython",
    "version": 3
   },
   "file_extension": ".py",
   "mimetype": "text/x-python",
   "name": "python",
   "nbconvert_exporter": "python",
   "pygments_lexer": "ipython3",
   "version": "3.10.4"
  }
 },
 "nbformat": 4,
 "nbformat_minor": 5
}

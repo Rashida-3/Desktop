{
 "cells": [
  {
   "cell_type": "code",
   "execution_count": 1,
   "id": "b42eb7f3",
   "metadata": {},
   "outputs": [
    {
     "name": "stdout",
     "output_type": "stream",
     "text": [
      "jcjcjc\n"
     ]
    }
   ],
   "source": [
    "\n",
    "\n",
    "name =\"jc\"\n",
    "print(name*3)"
   ]
  },
  {
   "cell_type": "code",
   "execution_count": 2,
   "id": "bdef4d32",
   "metadata": {},
   "outputs": [
    {
     "name": "stdout",
     "output_type": "stream",
     "text": [
      "30\n"
     ]
    }
   ],
   "source": [
    "#addition sums\n",
    "x = 10\n",
    "y = 20\n",
    "print(x+y)"
   ]
  },
  {
   "cell_type": "code",
   "execution_count": 3,
   "id": "5c1858f5",
   "metadata": {},
   "outputs": [
    {
     "name": "stdout",
     "output_type": "stream",
     "text": [
      "10\n"
     ]
    }
   ],
   "source": [
    "#subtraction sum\n",
    "x=30\n",
    "y=20\n",
    "print(x-y)"
   ]
  },
  {
   "cell_type": "code",
   "execution_count": 4,
   "id": "6adeee28",
   "metadata": {},
   "outputs": [
    {
     "ename": "ZeroDivisionError",
     "evalue": "division by zero",
     "output_type": "error",
     "traceback": [
      "\u001b[1;31m---------------------------------------------------------------------------\u001b[0m",
      "\u001b[1;31mZeroDivisionError\u001b[0m                         Traceback (most recent call last)",
      "Input \u001b[1;32mIn [4]\u001b[0m, in \u001b[0;36m<cell line: 4>\u001b[1;34m()\u001b[0m\n\u001b[0;32m      2\u001b[0m x\u001b[38;5;241m=\u001b[39m\u001b[38;5;241m5\u001b[39m\n\u001b[0;32m      3\u001b[0m y\u001b[38;5;241m=\u001b[39m\u001b[38;5;241m0\u001b[39m\n\u001b[1;32m----> 4\u001b[0m \u001b[38;5;28mprint\u001b[39m(\u001b[43mx\u001b[49m\u001b[38;5;241;43m/\u001b[39;49m\u001b[43my\u001b[49m)\n",
      "\u001b[1;31mZeroDivisionError\u001b[0m: division by zero"
     ]
    }
   ],
   "source": [
    "#division in zero\n",
    "x=5\n",
    "y=0\n",
    "print(x/y)"
   ]
  },
  {
   "cell_type": "code",
   "execution_count": 5,
   "id": "4532526b",
   "metadata": {},
   "outputs": [
    {
     "name": "stdout",
     "output_type": "stream",
     "text": [
      "1800\n"
     ]
    }
   ],
   "source": [
    "#multiplication\n",
    "x =60\n",
    "y =30\n",
    "print(x*y)"
   ]
  },
  {
   "cell_type": "code",
   "execution_count": 6,
   "id": "cbedcc36",
   "metadata": {},
   "outputs": [
    {
     "name": "stdout",
     "output_type": "stream",
     "text": [
      "True\n"
     ]
    }
   ],
   "source": [
    "#greater than \n",
    "x = 50\n",
    "y = 40\n",
    "print(x>y)"
   ]
  },
  {
   "cell_type": "code",
   "execution_count": 7,
   "id": "497d05da",
   "metadata": {},
   "outputs": [
    {
     "name": "stdout",
     "output_type": "stream",
     "text": [
      "True\n"
     ]
    }
   ],
   "source": [
    "\n",
    "x = 10\n",
    "y = 5\n",
    "z = 7\n",
    "#greater than \n",
    "print(x>y)l"
   ]
  },
  {
   "cell_type": "code",
   "execution_count": 8,
   "id": "9928d0b2",
   "metadata": {},
   "outputs": [
    {
     "name": "stdout",
     "output_type": "stream",
     "text": [
      "False\n"
     ]
    }
   ],
   "source": [
    "#less than\n",
    "# lower than\n",
    "x = 10\n",
    "y = 5\n",
    "z = 7\n",
    "print(y>z) \n"
   ]
  },
  {
   "cell_type": "code",
   "execution_count": 9,
   "id": "5f6202f8",
   "metadata": {},
   "outputs": [
    {
     "name": "stdout",
     "output_type": "stream",
     "text": [
      "False\n"
     ]
    }
   ],
   "source": [
    "#equal to \n",
    "#equal to \n",
    "x = 10\n",
    "y = 5\n",
    "z = 7\n",
    "print(x==y)\n"
   ]
  },
  {
   "cell_type": "code",
   "execution_count": 10,
   "id": "c3809fdc",
   "metadata": {},
   "outputs": [
    {
     "name": "stdout",
     "output_type": "stream",
     "text": [
      "False\n"
     ]
    }
   ],
   "source": [
    "#not equal \n",
    "x = 10\n",
    "y = 5\n",
    "z = 7\n",
    "print(y==z)\n"
   ]
  },
  {
   "cell_type": "code",
   "execution_count": 11,
   "id": "c81bb11c",
   "metadata": {},
   "outputs": [
    {
     "name": "stdout",
     "output_type": "stream",
     "text": [
      "13\n"
     ]
    }
   ],
   "source": [
    "# two sums each operators\n",
    "#arthametic operators\n",
    "\n",
    "#addition in operators \n",
    "# 1st question\n",
    "a= 6\n",
    "b= 7\n",
    "print(a+b)"
   ]
  },
  {
   "cell_type": "code",
   "execution_count": 12,
   "id": "b6e06e08",
   "metadata": {},
   "outputs": [
    {
     "name": "stdout",
     "output_type": "stream",
     "text": [
      "106\n"
     ]
    }
   ],
   "source": [
    "#2nd question\n",
    "x= 17\n",
    "y= 89\n",
    "print(x+y)"
   ]
  },
  {
   "cell_type": "code",
   "execution_count": 13,
   "id": "07545ce2",
   "metadata": {},
   "outputs": [
    {
     "name": "stdout",
     "output_type": "stream",
     "text": [
      "18\n"
     ]
    }
   ],
   "source": [
    "# subtraction \n",
    "\n",
    "x=78\n",
    "y=60\n",
    "print(x-y)"
   ]
  },
  {
   "cell_type": "code",
   "execution_count": 14,
   "id": "244c86f6",
   "metadata": {},
   "outputs": [
    {
     "name": "stdout",
     "output_type": "stream",
     "text": [
      "29\n"
     ]
    }
   ],
   "source": [
    "a = 107\n",
    "b = 78\n",
    "print(a-b)"
   ]
  },
  {
   "cell_type": "code",
   "execution_count": 15,
   "id": "a41f0cb2",
   "metadata": {},
   "outputs": [
    {
     "name": "stdout",
     "output_type": "stream",
     "text": [
      "4368\n"
     ]
    }
   ],
   "source": [
    "# multiplication\n",
    "\n",
    "a = 78\n",
    "b = 56\n",
    "print(a*b)"
   ]
  },
  {
   "cell_type": "code",
   "execution_count": 16,
   "id": "144940bc",
   "metadata": {},
   "outputs": [
    {
     "name": "stdout",
     "output_type": "stream",
     "text": [
      "45435\n"
     ]
    }
   ],
   "source": [
    "y = 699\n",
    "x = 65\n",
    "print(y*x)"
   ]
  },
  {
   "cell_type": "code",
   "execution_count": 17,
   "id": "23fe6daa",
   "metadata": {},
   "outputs": [
    {
     "name": "stdout",
     "output_type": "stream",
     "text": [
      "15.8\n"
     ]
    }
   ],
   "source": [
    "# division \n",
    "\n",
    "a = 79\n",
    "b = 5\n",
    "print(a/b)"
   ]
  },
  {
   "cell_type": "code",
   "execution_count": 18,
   "id": "bd0958ca",
   "metadata": {},
   "outputs": [
    {
     "name": "stdout",
     "output_type": "stream",
     "text": [
      "0.8163265306122449\n"
     ]
    }
   ],
   "source": [
    "x = 80\n",
    "y = 98\n",
    "print(x/y)"
   ]
  },
  {
   "cell_type": "code",
   "execution_count": 19,
   "id": "2c429bdb",
   "metadata": {},
   "outputs": [
    {
     "name": "stdout",
     "output_type": "stream",
     "text": [
      "2\n"
     ]
    }
   ],
   "source": [
    "#floor division\n",
    "a = 7\n",
    "b = 3\n",
    "print(a//b)"
   ]
  },
  {
   "cell_type": "code",
   "execution_count": 20,
   "id": "e3e358a9",
   "metadata": {},
   "outputs": [
    {
     "name": "stdout",
     "output_type": "stream",
     "text": [
      "26\n"
     ]
    }
   ],
   "source": [
    "x = 105\n",
    "z = 4 \n",
    "print(x//z)"
   ]
  },
  {
   "cell_type": "code",
   "execution_count": 21,
   "id": "532396ff",
   "metadata": {},
   "outputs": [
    {
     "name": "stdout",
     "output_type": "stream",
     "text": [
      "8\n"
     ]
    }
   ],
   "source": [
    "# assigment operators\n",
    "x = 5\n",
    "x+= 3\n",
    "print(x)"
   ]
  },
  {
   "cell_type": "code",
   "execution_count": 22,
   "id": "46c0c45a",
   "metadata": {},
   "outputs": [
    {
     "name": "stdout",
     "output_type": "stream",
     "text": [
      "2\n"
     ]
    }
   ],
   "source": [
    "x = 5\n",
    "x-= 3\n",
    "print(x)"
   ]
  },
  {
   "cell_type": "code",
   "execution_count": 23,
   "id": "434226a9",
   "metadata": {},
   "outputs": [
    {
     "name": "stdout",
     "output_type": "stream",
     "text": [
      "15\n"
     ]
    }
   ],
   "source": [
    "x = 5\n",
    "x*=3\n",
    "print(x)"
   ]
  },
  {
   "cell_type": "code",
   "execution_count": 24,
   "id": "f2751e84",
   "metadata": {},
   "outputs": [
    {
     "name": "stdout",
     "output_type": "stream",
     "text": [
      "1.6666666666666667\n"
     ]
    }
   ],
   "source": [
    "x = 5 \n",
    "x/=3\n",
    "print(x)"
   ]
  },
  {
   "cell_type": "code",
   "execution_count": 25,
   "id": "d21022ea",
   "metadata": {},
   "outputs": [
    {
     "name": "stdout",
     "output_type": "stream",
     "text": [
      "2\n"
     ]
    }
   ],
   "source": [
    "x = 5\n",
    "x%=3\n",
    "print(x)"
   ]
  },
  {
   "cell_type": "code",
   "execution_count": 26,
   "id": "9d8dfffc",
   "metadata": {},
   "outputs": [
    {
     "name": "stdout",
     "output_type": "stream",
     "text": [
      "0\n"
     ]
    }
   ],
   "source": [
    "x = 4\n",
    "x%=2\n",
    "print(x)\n"
   ]
  },
  {
   "cell_type": "code",
   "execution_count": 27,
   "id": "1d2d99bc",
   "metadata": {},
   "outputs": [
    {
     "name": "stdout",
     "output_type": "stream",
     "text": [
      "5\n"
     ]
    }
   ],
   "source": [
    "x=5\n",
    "y%=2\n",
    "print(x)"
   ]
  },
  {
   "cell_type": "code",
   "execution_count": 30,
   "id": "8767d6cc",
   "metadata": {},
   "outputs": [
    {
     "name": "stdout",
     "output_type": "stream",
     "text": [
      "1\n"
     ]
    }
   ],
   "source": [
    "x = 5\n",
    "x//=3\n",
    "print(x)"
   ]
  },
  {
   "cell_type": "code",
   "execution_count": 35,
   "id": "b86aa58c",
   "metadata": {},
   "outputs": [
    {
     "name": "stdout",
     "output_type": "stream",
     "text": [
      "125\n"
     ]
    }
   ],
   "source": [
    "#exponentiaion\n",
    "x = 5\n",
    "x**=3\n",
    "print(x)"
   ]
  },
  {
   "cell_type": "code",
   "execution_count": 39,
   "id": "36b0d515",
   "metadata": {},
   "outputs": [
    {
     "name": "stdout",
     "output_type": "stream",
     "text": [
      "False\n",
      "True\n"
     ]
    }
   ],
   "source": [
    "#python comparision operators \n",
    "\n",
    "#equal to ==\n",
    "x = 5\n",
    "y = 3\n",
    "print(x == y)\n",
    "\n",
    "a = 4\n",
    "b = 4\n",
    "print(a == b)"
   ]
  },
  {
   "cell_type": "code",
   "execution_count": 40,
   "id": "0c31cf9e",
   "metadata": {},
   "outputs": [
    {
     "name": "stdout",
     "output_type": "stream",
     "text": [
      "True\n",
      "False\n"
     ]
    }
   ],
   "source": [
    "# not equal to !=\n",
    "\n",
    "x =5\n",
    "y =3\n",
    "print(x != y)\n",
    "\n",
    "a = 5\n",
    "b = 5\n",
    "print(a != b)\n",
    "\n"
   ]
  },
  {
   "cell_type": "code",
   "execution_count": 44,
   "id": "38ae3028",
   "metadata": {},
   "outputs": [
    {
     "name": "stdout",
     "output_type": "stream",
     "text": [
      "True\n",
      "False\n"
     ]
    }
   ],
   "source": [
    "# greater than \n",
    "\n",
    "x = 6\n",
    "y = 3\n",
    "print(x>y)\n",
    "\n",
    "#2nd \n",
    "\n",
    "a = 8\n",
    "b = 30\n",
    "print(a>b)"
   ]
  },
  {
   "cell_type": "code",
   "execution_count": 46,
   "id": "70e0942c",
   "metadata": {},
   "outputs": [
    {
     "name": "stdout",
     "output_type": "stream",
     "text": [
      "False\n",
      "True\n"
     ]
    }
   ],
   "source": [
    "# less than\n",
    "\n",
    "x = 6\n",
    "y = 5\n",
    "print(x<y)\n",
    "\n",
    "a = 10\n",
    "b = 59\n",
    "print(a<b)"
   ]
  },
  {
   "cell_type": "code",
   "execution_count": 49,
   "id": "9b4e17cd",
   "metadata": {},
   "outputs": [
    {
     "name": "stdout",
     "output_type": "stream",
     "text": [
      "True\n",
      "True\n"
     ]
    }
   ],
   "source": [
    "# python logical operators \n",
    "# and \n",
    "\n",
    "x = 5\n",
    "print(x > 3 and x < 10)\n",
    "\n",
    "a = 6\n",
    "print(a > 4 and a < 7)\n"
   ]
  },
  {
   "cell_type": "code",
   "execution_count": 68,
   "id": "53787831",
   "metadata": {},
   "outputs": [
    {
     "name": "stdout",
     "output_type": "stream",
     "text": [
      "True\n",
      "True\n",
      "False\n",
      "True\n"
     ]
    }
   ],
   "source": [
    "#or\n",
    "x = 5\n",
    "print(x > 3 or x < 4)\n",
    "\n",
    "y = 20\n",
    "print(y > 5 or y < 10)\n",
    "\n",
    "#not\n",
    "x = 5\n",
    "print(not(x>3 and x<10))\n",
    "\n",
    "y = 56\n",
    "print(not(y<40 and x>34))\n",
    "\n"
   ]
  },
  {
   "cell_type": "code",
   "execution_count": 52,
   "id": "04431b2f",
   "metadata": {},
   "outputs": [
    {
     "name": "stdout",
     "output_type": "stream",
     "text": [
      "b is greater than a\n"
     ]
    }
   ],
   "source": [
    "# if and else condition\n",
    "\n",
    "a = 11\n",
    "b = 30\n",
    "\n",
    "if b>a:\n",
    "    print(\"b is greater than a\")"
   ]
  },
  {
   "cell_type": "code",
   "execution_count": 54,
   "id": "25b7d63c",
   "metadata": {},
   "outputs": [
    {
     "name": "stdout",
     "output_type": "stream",
     "text": [
      "b is greater than a\n"
     ]
    }
   ],
   "source": [
    "a = 23\n",
    "b = 34\n",
    "\n",
    "if a>b:\n",
    "    print(\"a is greater than b\")\n",
    "else:\n",
    "        print(\"b is greater than a\")\n",
    "    "
   ]
  },
  {
   "cell_type": "code",
   "execution_count": 55,
   "id": "ac7532dd",
   "metadata": {},
   "outputs": [
    {
     "name": "stdout",
     "output_type": "stream",
     "text": [
      "larger number is 5\n"
     ]
    }
   ],
   "source": [
    "a =5\n",
    "b =2\n",
    "\n",
    "if (a>b):\n",
    "    print(\"larger number is\" ,a)\n",
    "else:\n",
    "        print(\"larger number is\" ,b)\n"
   ]
  },
  {
   "cell_type": "code",
   "execution_count": 61,
   "id": "de4a1aea",
   "metadata": {},
   "outputs": [
    {
     "name": "stdout",
     "output_type": "stream",
     "text": [
      "larger number is 62782\n"
     ]
    }
   ],
   "source": [
    "x = 897\n",
    "y = 62782\n",
    "\n",
    "if (x>y):\n",
    "    print(\"smaller number is\" ,x)\n",
    "else:\n",
    "    print(\"larger number is\" ,y)"
   ]
  },
  {
   "cell_type": "code",
   "execution_count": 66,
   "id": "7a1e54b7",
   "metadata": {},
   "outputs": [
    {
     "name": "stdout",
     "output_type": "stream",
     "text": [
      "b is smaller than a\n"
     ]
    }
   ],
   "source": [
    "a = 678\n",
    "b = 456\n",
    "b = 456\n",
    "\n",
    "if (a<b):\n",
    "    print(\"a is greater than b\")\n",
    "else:\n",
    "    print(\"b is smaller than a\")"
   ]
  },
  {
   "cell_type": "code",
   "execution_count": 70,
   "id": "d907675d",
   "metadata": {},
   "outputs": [
    {
     "name": "stdout",
     "output_type": "stream",
     "text": [
      "b is greater than a\n"
     ]
    }
   ],
   "source": [
    "# if statement \n",
    "\n",
    "a = 300\n",
    "b = 599\n",
    "\n",
    "if b>a:\n",
    "    print(\"b is greater than a\")"
   ]
  },
  {
   "cell_type": "code",
   "execution_count": 75,
   "id": "cbfd22e9",
   "metadata": {},
   "outputs": [
    {
     "name": "stdout",
     "output_type": "stream",
     "text": [
      "145\n",
      "5703\n"
     ]
    }
   ],
   "source": [
    "# multi line code \n",
    "\n",
    "x = (12+5+45+5+78)\n",
    "print(x)\n",
    "     \n",
    "#subtraction\n",
    "\n",
    "y = 2545-54-626-652-617\\\n",
    "    -623+536+5246-52\n",
    "print(y)"
   ]
  },
  {
   "cell_type": "code",
   "execution_count": 79,
   "id": "6029cd94",
   "metadata": {},
   "outputs": [
    {
     "name": "stdout",
     "output_type": "stream",
     "text": [
      "4149.026615969582\n"
     ]
    }
   ],
   "source": [
    "x = 5246+4252+255\\\n",
    "   -562/526*5245\n",
    "print(x)"
   ]
  },
  {
   "cell_type": "code",
   "execution_count": 80,
   "id": "692ba3f6",
   "metadata": {},
   "outputs": [
    {
     "name": "stdout",
     "output_type": "stream",
     "text": [
      "a is not greater than b\n"
     ]
    }
   ],
   "source": [
    "a = 30\n",
    "b = 400\n",
    "if a>b:\n",
    "    print(\"b is greater than a\")\n",
    "else: \n",
    "    print(\"a is not greater than b\")"
   ]
  },
  {
   "cell_type": "code",
   "execution_count": 83,
   "id": "6397c3db",
   "metadata": {},
   "outputs": [
    {
     "name": "stdout",
     "output_type": "stream",
     "text": [
      "y greater than x\n"
     ]
    }
   ],
   "source": [
    "x = 599\n",
    "y = 600\n",
    "\n",
    "if x>y:\n",
    "    print(\"x not greater than y\")\n",
    "else: \n",
    "    print(\"y greater than x\")"
   ]
  },
  {
   "cell_type": "code",
   "execution_count": null,
   "id": "5f7abacd",
   "metadata": {},
   "outputs": [],
   "source": [
    "\n",
    "\n",
    "\n",
    "\n"
   ]
  },
  {
   "cell_type": "code",
   "execution_count": null,
   "id": "d91f8523",
   "metadata": {},
   "outputs": [],
   "source": []
  }
 ],
 "metadata": {
  "kernelspec": {
   "display_name": "Python 3 (ipykernel)",
   "language": "python",
   "name": "python3"
  },
  "language_info": {
   "codemirror_mode": {
    "name": "ipython",
    "version": 3
   },
   "file_extension": ".py",
   "mimetype": "text/x-python",
   "name": "python",
   "nbconvert_exporter": "python",
   "pygments_lexer": "ipython3",
   "version": "3.10.4"
  }
 },
 "nbformat": 4,
 "nbformat_minor": 5
}

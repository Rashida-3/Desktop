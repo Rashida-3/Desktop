{
  "nbformat": 4,
  "nbformat_minor": 0,
  "metadata": {
    "colab": {
      "provenance": []
    },
    "kernelspec": {
      "name": "python3",
      "display_name": "Python 3"
    },
    "language_info": {
      "name": "python"
    }
  },
  "cells": [
    {
      "cell_type": "code",
      "execution_count": null,
      "metadata": {
        "id": "JWGqB5l506B0"
      },
      "outputs": [],
      "source": [
        "name =\"jc\"\n",
        "print(name*3)"
      ]
    },
    {
      "cell_type": "code",
      "source": [
        "\n",
        "\n",
        "name =\"jc\"\n",
        "print(name*3)"
      ],
      "metadata": {
        "id": "40bWH-lj2gt6",
        "colab": {
          "base_uri": "https://localhost:8080/"
        },
        "outputId": "3353c95e-28a4-4b7d-b770-e29860d245a2"
      },
      "execution_count": null,
      "outputs": [
        {
          "output_type": "stream",
          "name": "stdout",
          "text": [
            "jcjcjc\n"
          ]
        }
      ]
    },
    {
      "cell_type": "code",
      "source": [
        "#addition sums\n",
        "x = 10\n",
        "y = 20\n",
        "print(x+y)"
      ],
      "metadata": {
        "colab": {
          "base_uri": "https://localhost:8080/"
        },
        "id": "tIiIjAeaQdrc",
        "outputId": "cc6c54e7-6390-42e4-a01b-e0be73204a27"
      },
      "execution_count": null,
      "outputs": [
        {
          "output_type": "stream",
          "name": "stdout",
          "text": [
            "30\n"
          ]
        }
      ]
    },
    {
      "cell_type": "code",
      "source": [
        "#subtraction sum\n",
        "x=30\n",
        "y=20\n",
        "print(x-y)"
      ],
      "metadata": {
        "colab": {
          "base_uri": "https://localhost:8080/"
        },
        "id": "50kzDn8ZQgxN",
        "outputId": "84577d55-e735-4829-fd2f-dbb7b46af16e"
      },
      "execution_count": null,
      "outputs": [
        {
          "output_type": "stream",
          "name": "stdout",
          "text": [
            "10\n"
          ]
        }
      ]
    },
    {
      "cell_type": "code",
      "source": [
        "#multiplication\n",
        "x =60\n",
        "y =30\n",
        "print(x*y)"
      ],
      "metadata": {
        "colab": {
          "base_uri": "https://localhost:8080/"
        },
        "id": "8SabwcXnQise",
        "outputId": "87a7e372-61f1-4d3e-c20e-22af620a6af0"
      },
      "execution_count": null,
      "outputs": [
        {
          "output_type": "stream",
          "name": "stdout",
          "text": [
            "1800\n"
          ]
        }
      ]
    },
    {
      "cell_type": "code",
      "source": [
        "#greater than\n",
        "x = 50\n",
        "y = 40\n",
        "print(x>y)"
      ],
      "metadata": {
        "colab": {
          "base_uri": "https://localhost:8080/"
        },
        "id": "BRz74iXOQlck",
        "outputId": "507a28f1-7835-4bab-a59b-5208777f9e27"
      },
      "execution_count": null,
      "outputs": [
        {
          "output_type": "stream",
          "name": "stdout",
          "text": [
            "True\n"
          ]
        }
      ]
    },
    {
      "cell_type": "code",
      "source": [
        "\n",
        "x = 10\n",
        "y = 5\n",
        "z = 7\n",
        "print(x>y)"
      ],
      "metadata": {
        "colab": {
          "base_uri": "https://localhost:8080/"
        },
        "id": "H5DvLubiQnjK",
        "outputId": "1441da5d-6a41-4d0c-ae20-fca1987a9034"
      },
      "execution_count": null,
      "outputs": [
        {
          "output_type": "stream",
          "name": "stdout",
          "text": [
            "True\n"
          ]
        }
      ]
    },
    {
      "cell_type": "code",
      "source": [
        "#less than\n",
        "# lower than\n",
        "x = 10\n",
        "y = 5\n",
        "z = 7\n",
        "print(y>z)\n"
      ],
      "metadata": {
        "colab": {
          "base_uri": "https://localhost:8080/"
        },
        "id": "l8rbZLC0QpjC",
        "outputId": "4f5e1e9f-8795-43ce-ff4b-4f364504e2ef"
      },
      "execution_count": null,
      "outputs": [
        {
          "output_type": "stream",
          "name": "stdout",
          "text": [
            "False\n"
          ]
        }
      ]
    },
    {
      "cell_type": "code",
      "source": [
        "#equal to\n",
        "#equal to\n",
        "x = 10\n",
        "y = 5\n",
        "z = 7\n",
        "print(x==y)\n"
      ],
      "metadata": {
        "colab": {
          "base_uri": "https://localhost:8080/"
        },
        "id": "o0yiIEIhQxIO",
        "outputId": "e82b63bc-0eb0-4aaf-9d0f-f57992d555a8"
      },
      "execution_count": null,
      "outputs": [
        {
          "output_type": "stream",
          "name": "stdout",
          "text": [
            "False\n"
          ]
        }
      ]
    },
    {
      "cell_type": "code",
      "source": [
        "#not equal\n",
        "x = 10\n",
        "y = 5\n",
        "z = 7\n",
        "print(y==z)\n"
      ],
      "metadata": {
        "colab": {
          "base_uri": "https://localhost:8080/"
        },
        "id": "zzEDxVDJQz1Z",
        "outputId": "3a31493e-a8a3-4a5a-e3a4-7512f4e02524"
      },
      "execution_count": null,
      "outputs": [
        {
          "output_type": "stream",
          "name": "stdout",
          "text": [
            "False\n"
          ]
        }
      ]
    },
    {
      "cell_type": "code",
      "source": [
        "# two sums each operators\n",
        "#arthametic operators\n",
        "\n",
        "#addition in operators\n",
        "# 1st question\n",
        "a= 6\n",
        "b= 7\n",
        "print(a+b)"
      ],
      "metadata": {
        "colab": {
          "base_uri": "https://localhost:8080/"
        },
        "id": "4ZFzlEnuQ2dm",
        "outputId": "c723b470-b702-4e23-acb8-e7ddf8d92443"
      },
      "execution_count": null,
      "outputs": [
        {
          "output_type": "stream",
          "name": "stdout",
          "text": [
            "13\n"
          ]
        }
      ]
    },
    {
      "cell_type": "code",
      "source": [
        "#2nd question\n",
        "x= 17\n",
        "y= 89\n",
        "print(x+y)"
      ],
      "metadata": {
        "colab": {
          "base_uri": "https://localhost:8080/"
        },
        "id": "OODYQvvdQ4z3",
        "outputId": "1f9533f1-89e4-469b-99f7-99c9f482fb59"
      },
      "execution_count": null,
      "outputs": [
        {
          "output_type": "stream",
          "name": "stdout",
          "text": [
            "106\n"
          ]
        }
      ]
    },
    {
      "cell_type": "code",
      "source": [
        "# subtraction\n",
        "\n",
        "x=78\n",
        "y=60\n",
        "print(x-y)"
      ],
      "metadata": {
        "colab": {
          "base_uri": "https://localhost:8080/"
        },
        "id": "-rMOxRdRQ7On",
        "outputId": "67e84a6e-b74e-4c15-e47e-50cb2924dd0a"
      },
      "execution_count": null,
      "outputs": [
        {
          "output_type": "stream",
          "name": "stdout",
          "text": [
            "18\n"
          ]
        }
      ]
    },
    {
      "cell_type": "code",
      "source": [
        "a = 107\n",
        "b = 78\n",
        "print(a-b)"
      ],
      "metadata": {
        "colab": {
          "base_uri": "https://localhost:8080/"
        },
        "id": "5IDylQrWQ9S2",
        "outputId": "45aa78b5-dc55-448f-a6f7-5931dd7398d7"
      },
      "execution_count": null,
      "outputs": [
        {
          "output_type": "stream",
          "name": "stdout",
          "text": [
            "29\n"
          ]
        }
      ]
    },
    {
      "cell_type": "code",
      "source": [
        "# multiplication\n",
        "\n",
        "a = 78\n",
        "b = 56\n",
        "print(a*b)"
      ],
      "metadata": {
        "colab": {
          "base_uri": "https://localhost:8080/"
        },
        "id": "-sF6d2QHQ_mG",
        "outputId": "34547b28-9fd2-40e9-eaeb-3ea71bfba31d"
      },
      "execution_count": null,
      "outputs": [
        {
          "output_type": "stream",
          "name": "stdout",
          "text": [
            "4368\n"
          ]
        }
      ]
    },
    {
      "cell_type": "code",
      "source": [
        "y = 699\n",
        "x = 65\n",
        "print(y*x)"
      ],
      "metadata": {
        "colab": {
          "base_uri": "https://localhost:8080/"
        },
        "id": "JAYGXLlPRBte",
        "outputId": "d1e20ad4-89d7-40ae-bfc7-bb748dcc14f8"
      },
      "execution_count": null,
      "outputs": [
        {
          "output_type": "stream",
          "name": "stdout",
          "text": [
            "45435\n"
          ]
        }
      ]
    },
    {
      "cell_type": "code",
      "source": [
        "# division\n",
        "\n",
        "a = 79\n",
        "b = 5\n",
        "print(a/b)"
      ],
      "metadata": {
        "colab": {
          "base_uri": "https://localhost:8080/"
        },
        "id": "eYAX1ym5RD5t",
        "outputId": "9ce27688-d90a-4038-d845-f7915039cb2b"
      },
      "execution_count": null,
      "outputs": [
        {
          "output_type": "stream",
          "name": "stdout",
          "text": [
            "15.8\n"
          ]
        }
      ]
    },
    {
      "cell_type": "code",
      "source": [
        "x = 80\n",
        "y = 98\n",
        "print(x/y)"
      ],
      "metadata": {
        "colab": {
          "base_uri": "https://localhost:8080/"
        },
        "id": "8ChOMWToRGN_",
        "outputId": "8576fe52-b922-44e8-a129-c255fe81dd4c"
      },
      "execution_count": null,
      "outputs": [
        {
          "output_type": "stream",
          "name": "stdout",
          "text": [
            "0.8163265306122449\n"
          ]
        }
      ]
    },
    {
      "cell_type": "code",
      "source": [
        "#floor division\n",
        "a = 7\n",
        "b = 3\n",
        "print(a//b)"
      ],
      "metadata": {
        "colab": {
          "base_uri": "https://localhost:8080/"
        },
        "id": "sZYRmoO0RIfM",
        "outputId": "2ce60fa8-205f-43dd-bfdc-5b835ff542e6"
      },
      "execution_count": null,
      "outputs": [
        {
          "output_type": "stream",
          "name": "stdout",
          "text": [
            "2\n"
          ]
        }
      ]
    },
    {
      "cell_type": "code",
      "source": [
        "x = 105\n",
        "z = 4\n",
        "print(x//z)"
      ],
      "metadata": {
        "colab": {
          "base_uri": "https://localhost:8080/"
        },
        "id": "s0p4btvkRKiw",
        "outputId": "0a49a0b6-a9e9-435a-df74-ab9212fbb9e7"
      },
      "execution_count": null,
      "outputs": [
        {
          "output_type": "stream",
          "name": "stdout",
          "text": [
            "26\n"
          ]
        }
      ]
    },
    {
      "cell_type": "code",
      "source": [
        "# assigment operators\n",
        "x = 5\n",
        "x+= 3\n",
        "print(x)"
      ],
      "metadata": {
        "colab": {
          "base_uri": "https://localhost:8080/"
        },
        "id": "eVPBovt7RMhT",
        "outputId": "46ceae09-3e97-4a50-84bb-7b313a57a504"
      },
      "execution_count": null,
      "outputs": [
        {
          "output_type": "stream",
          "name": "stdout",
          "text": [
            "8\n"
          ]
        }
      ]
    },
    {
      "cell_type": "code",
      "source": [
        "x = 5\n",
        "x-= 3\n",
        "print(x)"
      ],
      "metadata": {
        "colab": {
          "base_uri": "https://localhost:8080/"
        },
        "id": "iXwYLvsVRO_Y",
        "outputId": "12e8c4c6-c6b7-47cb-f631-a687786193b7"
      },
      "execution_count": null,
      "outputs": [
        {
          "output_type": "stream",
          "name": "stdout",
          "text": [
            "2\n"
          ]
        }
      ]
    },
    {
      "cell_type": "code",
      "source": [
        "x = 5\n",
        "x*=3\n",
        "print(x)"
      ],
      "metadata": {
        "colab": {
          "base_uri": "https://localhost:8080/"
        },
        "id": "gKeCI2p1RQ3D",
        "outputId": "5760138b-9254-4c25-8346-1a1fa4264d1e"
      },
      "execution_count": null,
      "outputs": [
        {
          "output_type": "stream",
          "name": "stdout",
          "text": [
            "15\n"
          ]
        }
      ]
    },
    {
      "cell_type": "code",
      "source": [
        "x = 5\n",
        "x/=3\n",
        "print(x)"
      ],
      "metadata": {
        "colab": {
          "base_uri": "https://localhost:8080/"
        },
        "id": "UPN2ea-yRTNN",
        "outputId": "6576a9d3-5c7a-4c67-d56d-8f0b7c3cf53f"
      },
      "execution_count": null,
      "outputs": [
        {
          "output_type": "stream",
          "name": "stdout",
          "text": [
            "1.6666666666666667\n"
          ]
        }
      ]
    },
    {
      "cell_type": "code",
      "source": [
        "x = 5\n",
        "x%=3\n",
        "print(x)"
      ],
      "metadata": {
        "colab": {
          "base_uri": "https://localhost:8080/"
        },
        "id": "Hr7ErSzvRVg1",
        "outputId": "fe919912-548e-45a6-d759-7371602e7808"
      },
      "execution_count": null,
      "outputs": [
        {
          "output_type": "stream",
          "name": "stdout",
          "text": [
            "2\n"
          ]
        }
      ]
    },
    {
      "cell_type": "code",
      "source": [
        "x = 4\n",
        "x%=2\n",
        "print(x)\n"
      ],
      "metadata": {
        "colab": {
          "base_uri": "https://localhost:8080/"
        },
        "id": "pPEwZLALRXbi",
        "outputId": "0c195bd6-a429-4438-be29-d9e80bb03bdd"
      },
      "execution_count": null,
      "outputs": [
        {
          "output_type": "stream",
          "name": "stdout",
          "text": [
            "0\n"
          ]
        }
      ]
    },
    {
      "cell_type": "code",
      "source": [
        "x=5\n",
        "y%=2\n",
        "print(x)"
      ],
      "metadata": {
        "colab": {
          "base_uri": "https://localhost:8080/"
        },
        "id": "YpkcNFhDRZps",
        "outputId": "06119c4f-ef92-4d94-f717-a2bce358222d"
      },
      "execution_count": null,
      "outputs": [
        {
          "output_type": "stream",
          "name": "stdout",
          "text": [
            "5\n"
          ]
        }
      ]
    },
    {
      "cell_type": "code",
      "source": [
        "x = 5\n",
        "x//=3\n",
        "print(x)"
      ],
      "metadata": {
        "colab": {
          "base_uri": "https://localhost:8080/"
        },
        "id": "7wJpQ4YERbae",
        "outputId": "7a44b400-ec27-4416-cc37-225f3216da7a"
      },
      "execution_count": null,
      "outputs": [
        {
          "output_type": "stream",
          "name": "stdout",
          "text": [
            "1\n"
          ]
        }
      ]
    },
    {
      "cell_type": "code",
      "source": [
        "#exponentiaion\n",
        "x = 5\n",
        "x**=3\n",
        "print(x)"
      ],
      "metadata": {
        "colab": {
          "base_uri": "https://localhost:8080/"
        },
        "id": "06j0UilZReCg",
        "outputId": "26adb773-08c0-46c0-c965-b2470f68dd00"
      },
      "execution_count": null,
      "outputs": [
        {
          "output_type": "stream",
          "name": "stdout",
          "text": [
            "125\n"
          ]
        }
      ]
    },
    {
      "cell_type": "code",
      "source": [
        "#python comparision operators\n",
        "\n",
        "#equal to ==\n",
        "x = 5\n",
        "y = 3\n",
        "print(x == y)\n",
        "\n",
        "a = 4\n",
        "b = 4\n",
        "print(a == b)"
      ],
      "metadata": {
        "colab": {
          "base_uri": "https://localhost:8080/"
        },
        "id": "mycaCyRERgX8",
        "outputId": "e2f2e619-cc03-4fe5-cd70-d3bc85d70a22"
      },
      "execution_count": null,
      "outputs": [
        {
          "output_type": "stream",
          "name": "stdout",
          "text": [
            "False\n",
            "True\n"
          ]
        }
      ]
    },
    {
      "cell_type": "code",
      "source": [
        "# not equal to !=\n",
        "\n",
        "x =5\n",
        "y =3\n",
        "print(x != y)\n",
        "\n",
        "a = 5\n",
        "b = 5\n",
        "print(a != b)\n",
        "\n"
      ],
      "metadata": {
        "colab": {
          "base_uri": "https://localhost:8080/"
        },
        "id": "rcNMTZhRRiXb",
        "outputId": "ca2bf319-d214-4706-8d01-6d3504ae3b7b"
      },
      "execution_count": null,
      "outputs": [
        {
          "output_type": "stream",
          "name": "stdout",
          "text": [
            "True\n",
            "False\n"
          ]
        }
      ]
    },
    {
      "cell_type": "code",
      "source": [
        "# greater than\n",
        "\n",
        "x = 6\n",
        "y = 3\n",
        "print(x>y)\n",
        "\n",
        "#2nd\n",
        "\n",
        "a = 8\n",
        "b = 30\n",
        "print(a>b)"
      ],
      "metadata": {
        "colab": {
          "base_uri": "https://localhost:8080/"
        },
        "id": "RX-vx645RmHR",
        "outputId": "da6559e8-6bc7-4670-b194-ce0bbb5b8252"
      },
      "execution_count": null,
      "outputs": [
        {
          "output_type": "stream",
          "name": "stdout",
          "text": [
            "True\n",
            "False\n"
          ]
        }
      ]
    },
    {
      "cell_type": "code",
      "source": [
        "# less than\n",
        "\n",
        "x = 6\n",
        "y = 5\n",
        "print(x<y)\n",
        "\n",
        "a = 10\n",
        "b = 59\n",
        "print(a<b)\n"
      ],
      "metadata": {
        "colab": {
          "base_uri": "https://localhost:8080/"
        },
        "id": "FI6hAg8eR7UQ",
        "outputId": "5003072d-c905-43f2-b918-a3e7817d7b80"
      },
      "execution_count": null,
      "outputs": [
        {
          "output_type": "stream",
          "name": "stdout",
          "text": [
            "False\n",
            "True\n"
          ]
        }
      ]
    },
    {
      "cell_type": "code",
      "source": [
        "# python logical operators\n",
        "# and\n",
        "\n",
        "x = 5\n",
        "print(x > 3 and x < 10)\n",
        "\n",
        "a = 6\n",
        "print(a > 4 and a < 7)\n"
      ],
      "metadata": {
        "colab": {
          "base_uri": "https://localhost:8080/"
        },
        "id": "eiABor_gR8Xb",
        "outputId": "7b5b96e4-809f-41be-e014-841fd839a71f"
      },
      "execution_count": null,
      "outputs": [
        {
          "output_type": "stream",
          "name": "stdout",
          "text": [
            "True\n",
            "True\n"
          ]
        }
      ]
    },
    {
      "cell_type": "code",
      "source": [
        "#or\n",
        "x = 5\n",
        "print(x > 3 or x < 4)\n",
        "\n",
        "y = 20\n",
        "print(y > 5 or y < 10)\n",
        "\n",
        "#not\n",
        "x = 5\n",
        "print(not(x>3 and x<10))\n",
        "\n",
        "y = 56\n",
        "print(not(y<40 and x>34))\n",
        "\n"
      ],
      "metadata": {
        "colab": {
          "base_uri": "https://localhost:8080/"
        },
        "id": "Ijh-u0eRSApk",
        "outputId": "fca9c91a-d707-47c0-aab4-d94a65152d43"
      },
      "execution_count": null,
      "outputs": [
        {
          "output_type": "stream",
          "name": "stdout",
          "text": [
            "True\n",
            "True\n",
            "False\n",
            "True\n"
          ]
        }
      ]
    },
    {
      "cell_type": "code",
      "source": [
        "# if and else condition\n",
        "\n",
        "a = 11\n",
        "b = 30\n",
        "\n",
        "if b>a:\n",
        "    print(\"b is greater than a\")"
      ],
      "metadata": {
        "colab": {
          "base_uri": "https://localhost:8080/"
        },
        "id": "8xsOG6xgSFLP",
        "outputId": "f5af5abe-ecee-4d02-cee1-74524994e022"
      },
      "execution_count": null,
      "outputs": [
        {
          "output_type": "stream",
          "name": "stdout",
          "text": [
            "b is greater than a\n"
          ]
        }
      ]
    },
    {
      "cell_type": "code",
      "source": [
        "a = 23\n",
        "b = 34\n",
        "\n",
        "if a>b:\n",
        "    print(\"a is greater than b\")\n",
        "else:\n",
        "        print(\"b is greater than a\")\n"
      ],
      "metadata": {
        "colab": {
          "base_uri": "https://localhost:8080/"
        },
        "id": "r3PfTxFOSHZX",
        "outputId": "9a3b3201-75b0-45bf-fbf7-7ef595f2ca85"
      },
      "execution_count": null,
      "outputs": [
        {
          "output_type": "stream",
          "name": "stdout",
          "text": [
            "b is greater than a\n"
          ]
        }
      ]
    },
    {
      "cell_type": "code",
      "source": [
        "a =5\n",
        "b =2\n",
        "\n",
        "if (a>b):\n",
        "    print(\"larger number is\" ,a)\n",
        "else:\n",
        "        print(\"larger number is\" ,b)\n"
      ],
      "metadata": {
        "colab": {
          "base_uri": "https://localhost:8080/"
        },
        "id": "3BgGgScPSJw9",
        "outputId": "4959ef77-9a99-4b44-acb5-3f77e0b3bcda"
      },
      "execution_count": null,
      "outputs": [
        {
          "output_type": "stream",
          "name": "stdout",
          "text": [
            "larger number is 5\n"
          ]
        }
      ]
    },
    {
      "cell_type": "code",
      "source": [
        "x = 897\n",
        "y = 62782\n",
        "\n",
        "if (x>y):\n",
        "    print(\"smaller number is\" ,x)\n",
        "else:\n",
        "    print(\"larger number is\" ,y)"
      ],
      "metadata": {
        "colab": {
          "base_uri": "https://localhost:8080/"
        },
        "id": "rLDWGFSESMWd",
        "outputId": "7163e8e3-3353-4d14-8012-44e1f7ebd3ca"
      },
      "execution_count": null,
      "outputs": [
        {
          "output_type": "stream",
          "name": "stdout",
          "text": [
            "larger number is 62782\n"
          ]
        }
      ]
    },
    {
      "cell_type": "code",
      "source": [
        "a = 678\n",
        "b = 456\n",
        "\n",
        "if (a<b):\n",
        "    print(\"a is greater than b\")\n",
        "else:\n",
        "    print(\"b is smaller than a\")"
      ],
      "metadata": {
        "colab": {
          "base_uri": "https://localhost:8080/"
        },
        "id": "Ch_McyXESOup",
        "outputId": "a9eaaad7-44c7-4909-9af8-277849ccdc2c"
      },
      "execution_count": null,
      "outputs": [
        {
          "output_type": "stream",
          "name": "stdout",
          "text": [
            "b is smaller than a\n"
          ]
        }
      ]
    },
    {
      "cell_type": "code",
      "source": [
        "# if statement\n",
        "\n",
        "a = 300\n",
        "b = 599\n",
        "\n",
        "if b>a:\n",
        "    print(\"b is greater than a\")"
      ],
      "metadata": {
        "colab": {
          "base_uri": "https://localhost:8080/"
        },
        "id": "qVrO2j3RSR3E",
        "outputId": "ce4b783b-a2a5-41b3-ff98-495a26fa94ec"
      },
      "execution_count": null,
      "outputs": [
        {
          "output_type": "stream",
          "name": "stdout",
          "text": [
            "b is greater than a\n"
          ]
        }
      ]
    },
    {
      "cell_type": "code",
      "source": [
        "# multi line code\n",
        "\n",
        "x = (12+5+45+5+78)\n",
        "print(x)\n",
        "\n",
        "#subtraction\n",
        "\n",
        "y = 2545-54-626-652-617\\\n",
        "    -623+536+5246-52\n",
        "print(y)"
      ],
      "metadata": {
        "colab": {
          "base_uri": "https://localhost:8080/"
        },
        "id": "SlLZCk0vST0H",
        "outputId": "80e0deda-0708-4f03-8742-abb5c046460b"
      },
      "execution_count": null,
      "outputs": [
        {
          "output_type": "stream",
          "name": "stdout",
          "text": [
            "145\n",
            "5703\n"
          ]
        }
      ]
    },
    {
      "cell_type": "code",
      "source": [
        "x = 5246+4252+255\\\n",
        "   -562/526*5245\n",
        "print(x)"
      ],
      "metadata": {
        "colab": {
          "base_uri": "https://localhost:8080/"
        },
        "id": "AmANyFUdSWEt",
        "outputId": "be140f6c-688a-48f5-973c-a8f5f3b64159"
      },
      "execution_count": null,
      "outputs": [
        {
          "output_type": "stream",
          "name": "stdout",
          "text": [
            "4149.026615969582\n"
          ]
        }
      ]
    },
    {
      "cell_type": "code",
      "source": [
        "a = 30\n",
        "b = 400\n",
        "if a>b:\n",
        "    print(\"b is greater than a\")\n",
        "else:\n",
        "    print(\"a is not greater than b\")"
      ],
      "metadata": {
        "colab": {
          "base_uri": "https://localhost:8080/"
        },
        "id": "43D1W5EuSYyV",
        "outputId": "4f84ff41-7ebc-4454-94c4-78310f99f832"
      },
      "execution_count": null,
      "outputs": [
        {
          "output_type": "stream",
          "name": "stdout",
          "text": [
            "a is not greater than b\n"
          ]
        }
      ]
    },
    {
      "cell_type": "code",
      "source": [
        "x = 599\n",
        "y = 600\n",
        "\n",
        "if x>y:\n",
        "    print(\"x not greater than y\")\n",
        "else:\n",
        "    print(\"y greater than x\")"
      ],
      "metadata": {
        "id": "mWJuZXHtSb3o",
        "outputId": "313b0eb2-ba41-43d8-e60c-7c22fff6b534",
        "colab": {
          "base_uri": "https://localhost:8080/"
        }
      },
      "execution_count": null,
      "outputs": [
        {
          "output_type": "stream",
          "name": "stdout",
          "text": [
            "y greater than x\n"
          ]
        }
      ]
    },
    {
      "cell_type": "code",
      "source": [
        "list=[2,3,4,51,6,7]\n",
        "greater=1\n",
        "for i in range(len(list)):\n",
        "  if greater > list[i]:\n",
        "    greater=list[i]\n",
        "    print(greater)\n"
      ],
      "metadata": {
        "id": "F8X-jPgtSecP"
      },
      "execution_count": null,
      "outputs": []
    },
    {
      "cell_type": "code",
      "source": [
        "a=N\n",
        "one\n",
        "print(bool(a))"
      ],
      "metadata": {
        "id": "vlCi8pbldhil",
        "colab": {
          "base_uri": "https://localhost:8080/"
        },
        "outputId": "5bb868bc-6958-443e-ff0c-bdb393c4dcba"
      },
      "execution_count": null,
      "outputs": [
        {
          "output_type": "stream",
          "name": "stdout",
          "text": [
            "False\n"
          ]
        }
      ]
    },
    {
      "cell_type": "code",
      "source": [
        "a=[2,3,4,5,6]\n",
        "b=[4,5,6,7,8]\n",
        "c=(zip(a,b))\n",
        "print(c)"
      ],
      "metadata": {
        "colab": {
          "base_uri": "https://localhost:8080/"
        },
        "id": "OHeXKvJVryFk",
        "outputId": "368423aa-d2a1-4d90-a7e5-35f029b86930"
      },
      "execution_count": null,
      "outputs": [
        {
          "output_type": "stream",
          "name": "stdout",
          "text": [
            "<zip object at 0x790f6ea61800>\n"
          ]
        }
      ]
    },
    {
      "cell_type": "code",
      "source": [
        "\n",
        "a=[1,2,3,4,5]\n",
        "b=[5,6,7,8,9]\n",
        "c=[2,3,4,5,6]\n",
        "\n",
        "list=(map(lambda x,y:x+y,a,b))"
      ],
      "metadata": {
        "id": "ImDeit5TtzyI"
      },
      "execution_count": null,
      "outputs": []
    },
    {
      "cell_type": "code",
      "source": [],
      "metadata": {
        "id": "269JNZdZLNNW"
      },
      "execution_count": null,
      "outputs": []
    }
  ]
}